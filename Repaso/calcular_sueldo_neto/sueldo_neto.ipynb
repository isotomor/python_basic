{
 "cells": [
  {
   "cell_type": "code",
   "execution_count": null,
   "metadata": {},
   "outputs": [],
   "source": [
    "nombre=\"\"\n",
    "apellidos=\"\""
   ]
  },
  {
   "cell_type": "markdown",
   "metadata": {},
   "source": [
    "__IMPORTANTE__: Antes de ejecutar el ejercicio, ejecuta la celda de abajo para instalar las librerías necesarias para este código."
   ]
  },
  {
   "cell_type": "code",
   "execution_count": 1,
   "metadata": {},
   "outputs": [
    {
     "name": "stdout",
     "output_type": "stream",
     "text": [
      "Requirement already satisfied: requests in /usr/lib/python3/dist-packages (2.22.0)\n"
     ]
    }
   ],
   "source": [
    "!pip install requests"
   ]
  },
  {
   "cell_type": "markdown",
   "metadata": {},
   "source": [
    "# Calculadora sueldo neto\n",
    "\n",
    "En este ejercicio hay que diseñar una función llamada `sueldo_neto_mensual()` que recibe como parametro el sueldo bruto anual de un empleado, y devuelve el sueldo neto mensual.\n",
    "\n",
    "Como se calcula el sueldo neto?\n",
    "\n",
    "En todas las nóminas se pagan una serie de cosas al estado, como son:\n",
    "- IRPF: Depende del sueldo bruto total.\n",
    "- Desempleo: 1,55% del sueldo bruto total.\n",
    "- Contigencias Comunes: 4,7% del sueldo bruto total\n",
    "- Formación profesional: 0,1% del sueldo bruto total. \n",
    "\n",
    "Todos esos elementos se __RESTAN__ del total, y así obtienes el sueldo neto.\n",
    "\n",
    "En la siguiente sección verás un ejemplo de como calcular la cantidad exacta de IRPF que hay que pagar. "
   ]
  },
  {
   "cell_type": "markdown",
   "metadata": {},
   "source": [
    "## Cálculo del IRPF \n",
    "\n",
    "El cálculo del IRPF en la Hacienda española se define como progresivo. Hacienda divide los ingresos (tu renta) en tramos y asigna un porcentaje a pagar en cada uno de ellos. Estos tramos son los siguientes:\n",
    "\n",
    "| Tramos IRPF 2021       | Tipos a aplicar |\n",
    "|:-----------------------|:---------------:|\n",
    "| Desde 0 hasta 12.450€  | 19%             |\n",
    "| De 12.450€ a 20.200€   | 24%             |\n",
    "| De 20.200€ a 35.200€   | 30%             |\n",
    "| De 35.200€ en adelante | 37%             |\n",
    "\n",
    "Por ejemplo, para una persona con una renta de 65.000€, el cálculo del impuesto se haría así:\n",
    "\n",
    "\n",
    "- Primer tramo IRPF: se paga el 19% de 12.450 euros, es decir, 2.365,5 euros\n",
    "- Segundo tramo IRPF: se paga el 24% de 7.750 euros (la diferencia entre el primer y segundo tramo), es decir, 1.860 euros.\n",
    "- Tercer tramo IRPF: se paga el 30% de 15.000 euros (la diferencia entre el segundo y tercer tramo), es decir, 4.500 euros.\n",
    "- Cuarto tramo IRPF: se paga el 37% de 29.800 euros (la diferencia entre su renta y el límite del tercer tramo), es decir, 11.026 euros.\n",
    "\n",
    "La suma de las anteriores cantidades es el total a pagar: 19.751,5 euros.\n"
   ]
  },
  {
   "cell_type": "markdown",
   "metadata": {},
   "source": [
    "# Tu código\n",
    "\n",
    "Consejo: Para el calculo del IRPF, te recomiendo separarlo en otra función. \n",
    "\n",
    "Consejo: Haz primero el cálculo a papel.\n",
    "\n",
    "La solución es aproximada, no te preocupes si los números no son exactamente idénticos."
   ]
  },
  {
   "cell_type": "code",
   "execution_count": null,
   "metadata": {},
   "outputs": [],
   "source": [
    "def sueldo_neto_mensual(sueldo_bruto_anual):\n",
    "    ...\n",
    "    ...\n",
    "    ...\n",
    "    ...\n",
    "    return sueldo_neto"
   ]
  },
  {
   "cell_type": "code",
   "execution_count": null,
   "metadata": {},
   "outputs": [],
   "source": [
    "sueldo_neto_mensual(16500) # Debe ser 1009.56€"
   ]
  },
  {
   "cell_type": "code",
   "execution_count": null,
   "metadata": {},
   "outputs": [],
   "source": [
    "sueldo_neto_mensual(22800) # Debe ser 1362.22€"
   ]
  },
  {
   "cell_type": "code",
   "execution_count": null,
   "metadata": {},
   "outputs": [],
   "source": [
    "sueldo_neto_mensual(31280) # Debe ser 1812.01€"
   ]
  },
  {
   "cell_type": "code",
   "execution_count": null,
   "metadata": {},
   "outputs": [],
   "source": [
    "sueldo_neto_mensual(40000) # Debe ser 2246.54"
   ]
  },
  {
   "cell_type": "markdown",
   "metadata": {},
   "source": []
  },
  {
   "cell_type": "markdown",
   "metadata": {},
   "source": [
    "# Ejercicio extra"
   ]
  },
  {
   "cell_type": "markdown",
   "metadata": {},
   "source": [
    "1. Documenta la función anterior en estilo google. \n",
    "2. Crea una clase que se llame Empleado, que tiene los atributos nombre, apellidos, numero_seguridad_social, y sueldo_bruto_anual. Esta clase tiene dos metodos, uno que se llame \n",
    "    - `calcula_sueldo_neto_mensual()` que llame a la función que habeis desarrollado en el apartado anterior y haga un print del mensaje `El empleado _nombre_ tiene un sueldo neto mensual de _sueldo_neto_`\n",
    "    - `modifica_sueldo_bruto()` que reciba un parametro para indicar el sueldo nuevo, y modifique el valor de sueldo_bruto_anual. Además, debe imprimir un mensaje que indique \"Merecida subida salarial! :)\" si el sueldo nuevo es mayor que el anterior, y \"Está la cosa mu mala\" en caso contrario.\n",
    "3. Crea una nueva función `sueldo_neto_mensual()` con el mismo código que en el ejercicio anterior (el del sueldo neto) que reciba un parametro más. Este parametro es \"moneda\", que puede tomar tres valores [EUR,USD,GBP] y se utiliza para cambiar el tipo de moneda que devuelve la función `sueldo_neto_mensual()`, que por defecto está en Euros. Tienes que hacer las siguientes modificaciones:\n",
    "    - Tienes que devolver la moneda (la unidad) cada vez que llamas a la función. \n",
    "    - Tienes que permitir que la función `sueldo_neto_mensual()` admita un nuevo parámetro para indicar la moneda en la que quieres que sea devuelto el valor del sueldo neto. \n",
    "    - Debes utilizar la función `tipo_cambio()` que está definida abajo, que devuelve un número real  (recomiendo que hagais alguna prueba para verificarlo)"
   ]
  },
  {
   "cell_type": "code",
   "execution_count": null,
   "metadata": {},
   "outputs": [],
   "source": [
    "def download_forex_data():\n",
    "    import requests\n",
    "\n",
    "    url = 'https://cdn.jsdelivr.net/gh/fawazahmed0/currency-api@1/latest/currencies/eur.json'\n",
    "\n",
    "    response = requests.get(url)\n",
    "    data = response.json()\n",
    "    return data \n",
    "\n",
    "\n",
    "def tipo_cambio(moneda='EUR'):\n",
    "    cambios = download_forex_data()\n",
    "\n",
    "    if moneda == 'EUR':\n",
    "        return 1\n",
    "    elif moneda == 'USD':\n",
    "        return cambios['eur']['usd']\n",
    "    elif moneda == 'GBP':\n",
    "        return cambios['eur']['gbp']\n",
    "    else:\n",
    "        raise Exception(\"Introduce una moneda válida: EUR, USD, GBP\")"
   ]
  }
 ],
 "metadata": {
  "kernelspec": {
   "display_name": "Python 3.8.10 64-bit",
   "language": "python",
   "name": "python3"
  },
  "language_info": {
   "codemirror_mode": {
    "name": "ipython",
    "version": 3
   },
   "file_extension": ".py",
   "mimetype": "text/x-python",
   "name": "python",
   "nbconvert_exporter": "python",
   "pygments_lexer": "ipython3",
   "version": "3.8.10"
  },
  "orig_nbformat": 4,
  "vscode": {
   "interpreter": {
    "hash": "916dbcbb3f70747c44a77c7bcd40155683ae19c65e1c03b4aa3499c5328201f1"
   }
  }
 },
 "nbformat": 4,
 "nbformat_minor": 2
}
