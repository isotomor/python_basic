{
 "cells": [
  {
   "cell_type": "code",
   "execution_count": null,
   "metadata": {},
   "outputs": [],
   "source": [
    "nombre=\"\"\n",
    "apellidos=\"\""
   ]
  },
  {
   "cell_type": "markdown",
   "metadata": {},
   "source": [
    "# Calculadora sueldo neto\n",
    "\n",
    "En este ejercicio hay que diseñar una función llamada `sueldo_neto_mensual()` que recibe como parametro el sueldo bruto anual de un empleado, y devuelve el sueldo neto mensual.\n",
    "\n",
    "Como se calcula el sueldo neto?\n",
    "\n",
    "En todas las nóminas se pagan una serie de cosas al estado, como son:\n",
    "- IRPF: Depende del sueldo bruto total.\n",
    "- Desempleo: 1,55% del sueldo bruto total.\n",
    "- Contigencias Comunes: 4,7% del sueldo bruto total\n",
    "- Formación profesional: 0,1% del sueldo bruto total. \n",
    "\n",
    "Todos esos elementos se __RESTAN__ del total, y así obtienes el sueldo neto.\n",
    "\n",
    "En la siguiente sección verás un ejemplo de como calcular la cantidad exacta de IRPF que hay que pagar. "
   ]
  },
  {
   "cell_type": "markdown",
   "metadata": {},
   "source": [
    "## Cálculo del IRPF \n",
    "\n",
    "El cálculo del IRPF en la Hacienda española se define como progresivo. Hacienda divide los ingresos (tu renta) en tramos y asigna un porcentaje a pagar en cada uno de ellos. Estos tramos son los siguientes:\n",
    "\n",
    "| Tramos IRPF 2021       | Tipos a aplicar |\n",
    "|:-----------------------|:---------------:|\n",
    "| Desde 0 hasta 12.450€  | 19%             |\n",
    "| De 12.450€ a 20.200€   | 24%             |\n",
    "| De 20.200€ a 35.200€   | 30%             |\n",
    "| De 35.200€ en adelante | 37%             |\n",
    "\n",
    "Por ejemplo, para una persona con una renta de 65.000€, el cálculo del impuesto se haría así:\n",
    "\n",
    "\n",
    "- Primer tramo IRPF: se paga el 19% de 12.450 euros, es decir, 2.365,5 euros\n",
    "- Segundo tramo IRPF: se paga el 24% de 7.750 euros (la diferencia entre el primer y segundo tramo), es decir, 1.860 euros.\n",
    "- Tercer tramo IRPF: se paga el 30% de 15.000 euros (la diferencia entre el segundo y tercer tramo), es decir, 4.500 euros.\n",
    "- Cuarto tramo IRPF: se paga el 37% de 29.800 euros (la diferencia entre su renta y el límite del tercer tramo), es decir, 11.026 euros.\n",
    "\n",
    "La suma de las anteriores cantidades es el total a pagar: 19.751,5 euros.\n"
   ]
  },
  {
   "cell_type": "markdown",
   "metadata": {},
   "source": [
    "# Tu código\n",
    "\n",
    "Consejo: Para el calculo del IRPF, te recomiendo separarlo en otra función. \n",
    "\n",
    "Consejo: Haz primero el cálculo a papel.\n",
    "\n",
    "La solución es aproximada, no te preocupes si los números no son exactamente idénticos."
   ]
  },
  {
   "cell_type": "markdown",
   "metadata": {},
   "source": [
    "## Solución"
   ]
  },
  {
   "cell_type": "code",
   "execution_count": 1,
   "metadata": {},
   "outputs": [],
   "source": [
    "# Preguntamos por la renta\n",
    "def IRPF_calc(renta):\n",
    "    if (renta < 12450):\n",
    "        impuesto = renta * 0.19 \n",
    "    elif (renta < 20200):\n",
    "        impuesto = 12450 * 0.19 + (renta - 12450) * 0.24 \n",
    "    elif (renta < 35200): \n",
    "        impuesto = 12450 * 0.19 + (20200 - 12450) * 0.24 + (renta - 20200) * 0.3\n",
    "    else: \n",
    "        impuesto = 12450 * 0.19 + (20200 - 12450) * 0.24 + (35200 - 20200) * 0.3 + (renta - 35200) * 0.37  \n",
    "    return impuesto"
   ]
  },
  {
   "cell_type": "code",
   "execution_count": 2,
   "metadata": {},
   "outputs": [],
   "source": [
    "def sueldo_neto_mensual(sueldo_bruto_anual):\n",
    "    sueldo_bruto_mensual = sueldo_bruto_anual / 12\n",
    "\n",
    "    desempleo = sueldo_bruto_mensual * 0.0155\n",
    "\n",
    "    contingecias = sueldo_bruto_mensual * 0.047\n",
    "\n",
    "    fp = sueldo_bruto_mensual * 0.001\n",
    "\n",
    "    irpf_anual = IRPF_calc(sueldo_bruto_anual)\n",
    "    irpf = irpf_anual / 12\n",
    "\n",
    "    sueldo_neto = sueldo_bruto_mensual - (desempleo+contingecias+fp+irpf)\n",
    "    return sueldo_neto"
   ]
  },
  {
   "cell_type": "code",
   "execution_count": 3,
   "metadata": {},
   "outputs": [
    {
     "data": {
      "text/plain": [
       "1009.5625"
      ]
     },
     "execution_count": 3,
     "metadata": {},
     "output_type": "execute_result"
    }
   ],
   "source": [
    "sueldo_neto_mensual(16500) # Debe ser 1009.56€"
   ]
  },
  {
   "cell_type": "code",
   "execution_count": 4,
   "metadata": {},
   "outputs": [
    {
     "data": {
      "text/plain": [
       "1362.225"
      ]
     },
     "execution_count": 4,
     "metadata": {},
     "output_type": "execute_result"
    }
   ],
   "source": [
    "sueldo_neto_mensual(22800) # Debe ser 1362.22€"
   ]
  },
  {
   "cell_type": "code",
   "execution_count": 5,
   "metadata": {},
   "outputs": [
    {
     "data": {
      "text/plain": [
       "1812.0183333333332"
      ]
     },
     "execution_count": 5,
     "metadata": {},
     "output_type": "execute_result"
    }
   ],
   "source": [
    "sueldo_neto_mensual(31280) # Debe ser 1812.01€"
   ]
  },
  {
   "cell_type": "code",
   "execution_count": 6,
   "metadata": {},
   "outputs": [
    {
     "data": {
      "text/plain": [
       "2246.541666666667"
      ]
     },
     "execution_count": 6,
     "metadata": {},
     "output_type": "execute_result"
    }
   ],
   "source": [
    "sueldo_neto_mensual(40000) # Debe ser 2246.54"
   ]
  },
  {
   "cell_type": "markdown",
   "metadata": {},
   "source": [
    "# Ejercicio extra"
   ]
  },
  {
   "cell_type": "markdown",
   "metadata": {},
   "source": [
    "1. Documenta la función anterior en estilo google. \n",
    "\n",
    "2. Crea una clase que se llame Empleado, que tiene los atributos nombre, apellidos, numero_seguridad_social, y sueldo_bruto_anual. Esta clase tiene dos metodos, uno que se llame \n",
    "    - `calcula_sueldo_neto_mensual()` que llame a la función que habeis desarrollado en el apartado anterior y haga un print del mensaje `El empleado _nombre_ tiene un sueldo neto mensual de _sueldo_neto_`\n",
    "    - `modifica_sueldo_bruto()` que reciba un parametro para indicar el sueldo nuevo, y modifique el valor de sueldo_bruto_anual. Además, debe imprimir un mensaje que indique \"Merecida subida salarial! :)\" si el sueldo nuevo es mayor que el anterior, y \"Está la cosa mu mala\" en caso contrario.\n",
    "\n",
    "3. Crea una nueva función `sueldo_neto_mensual()` con el mismo código que en el ejercicio anterior (el del sueldo neto) que reciba un parametro más. Este parametro es \"moneda\", que puede tomar tres valores [EUR,USD,GBP] y se utiliza para cambiar el tipo de moneda que devuelve la función `sueldo_neto_mensual()`, que por defecto está en Euros. Tienes que hacer las siguientes modificaciones:\n",
    "    - Tienes que devolver la moneda (la unidad) cada vez que llamas a la función. \n",
    "    - Tienes que permitir que la función `sueldo_neto_mensual()` admita un nuevo parámetro para indicar la moneda en la que quieres que sea devuelto el valor del sueldo neto. \n",
    "    - Debes utilizar la función `tipo_cambio()` que está definida abajo, que devuelve un número real  (recomiendo que hagais alguna prueba para verificarlo)"
   ]
  },
  {
   "cell_type": "code",
   "execution_count": 7,
   "metadata": {},
   "outputs": [],
   "source": [
    "def download_forex_data():\n",
    "    import requests\n",
    "\n",
    "    url = 'https://cdn.jsdelivr.net/gh/fawazahmed0/currency-api@1/latest/currencies/eur.json'\n",
    "\n",
    "    response = requests.get(url)\n",
    "    data = response.json()\n",
    "    return data \n",
    "\n",
    "\n",
    "def tipo_cambio(moneda='EUR'):\n",
    "    cambios = download_forex_data()\n",
    "\n",
    "    if moneda == 'EUR':\n",
    "        return 1\n",
    "    elif moneda == 'USD':\n",
    "        return cambios['eur']['usd']\n",
    "    elif moneda == 'GBP':\n",
    "        return cambios['eur']['gbp']\n",
    "    else:\n",
    "        raise Exception(\"Introduce una moneda válida: EUR, USD, GBP\")"
   ]
  },
  {
   "cell_type": "markdown",
   "metadata": {},
   "source": [
    "## Solucion Ejercicio extra 2"
   ]
  },
  {
   "cell_type": "code",
   "execution_count": 9,
   "metadata": {},
   "outputs": [],
   "source": [
    "class Empleado():\n",
    "\n",
    "    nombre = 'John Doe'\n",
    "\n",
    "    def __init__(self, apellidos, numero_ss, sueldo_bruto):\n",
    "        self.apellidos = apellidos\n",
    "        self.numero_ss = numero_ss\n",
    "        self.sueldo_bruto = sueldo_bruto\n",
    "\n",
    "    def calcula_sueldo_neto_mensual(self):\n",
    "        sueldo_neto = sueldo_neto_mensual(self.sueldo_bruto)\n",
    "        aux = f'El empleado {self.nombre} tiene un sueldo neto mensual de {sueldo_neto}'\n",
    "        return aux\n",
    "\n",
    "    def modifica_sueldo_bruto(self, nuevo_sueldo_bruto):\n",
    "        \n",
    "        if nuevo_sueldo_bruto > self.sueldo_bruto:\n",
    "            print(\"Merecida subida salarial! :)\")\n",
    "        else:\n",
    "            print(\"Está la cosa mu mala\")\n",
    "        \n",
    "        self.sueldo_bruto = nuevo_sueldo_bruto\n",
    "        \n",
    "\n",
    "    "
   ]
  },
  {
   "cell_type": "code",
   "execution_count": 10,
   "metadata": {},
   "outputs": [
    {
     "data": {
      "text/plain": [
       "'El empleado John Doe tiene un sueldo neto mensual de 1425.875'"
      ]
     },
     "execution_count": 10,
     "metadata": {},
     "output_type": "execute_result"
    }
   ],
   "source": [
    "e1 = Empleado('Sevilla','8o5345345348753287',24000)\n",
    "e1.calcula_sueldo_neto_mensual()"
   ]
  },
  {
   "cell_type": "code",
   "execution_count": 11,
   "metadata": {},
   "outputs": [
    {
     "name": "stdout",
     "output_type": "stream",
     "text": [
      "Merecida subida salarial! :)\n"
     ]
    }
   ],
   "source": [
    "e1.modifica_sueldo_bruto(24500)"
   ]
  },
  {
   "cell_type": "code",
   "execution_count": 12,
   "metadata": {},
   "outputs": [
    {
     "name": "stdout",
     "output_type": "stream",
     "text": [
      "Está la cosa mu mala\n"
     ]
    }
   ],
   "source": [
    "e1.modifica_sueldo_bruto(19000)"
   ]
  },
  {
   "cell_type": "markdown",
   "metadata": {},
   "source": [
    "## Solución Ejercicio extra 3"
   ]
  },
  {
   "cell_type": "markdown",
   "metadata": {},
   "source": [
    "__Propuesta 1__: Utilizando if/else para poner el símbolo de la moneda"
   ]
  },
  {
   "cell_type": "code",
   "execution_count": 14,
   "metadata": {},
   "outputs": [],
   "source": [
    "def sueldo_neto_mensual_moneda(sueldo_bruto_anual,moneda):\n",
    "    # eur, Eur, eUr, euR\n",
    "    moneda = moneda.upper()\n",
    "\n",
    "    if moneda == \"EUR\":\n",
    "        simbolo = \"€\"\n",
    "    elif moneda == \"USD\":\n",
    "        simbolo = \"$\"\n",
    "    elif moneda == \"GBP\":\n",
    "        simbolo = \"L\"\n",
    "    else: \n",
    "        simbolo = \" sin moneda\"\n",
    "\n",
    "    sueldo_bruto_mensual = sueldo_bruto_anual / 12\n",
    "    desempleo = sueldo_bruto_mensual * 0.0155\n",
    "    contingecias = sueldo_bruto_mensual * 0.047\n",
    "    fp = sueldo_bruto_mensual * 0.001\n",
    "\n",
    "    irpf_anual = IRPF_calc(sueldo_bruto_anual )\n",
    "    irpf = irpf_anual / 12\n",
    "\n",
    "    sueldo_neto = sueldo_bruto_mensual - (desempleo+contingecias+fp+irpf)\n",
    "\n",
    "    sueldo_neto_moneda = sueldo_neto * tipo_cambio(moneda)\n",
    "\n",
    "    sueldo_neto_moneda_str = str(sueldo_neto_moneda) + simbolo\n",
    "\n",
    "    return sueldo_neto_moneda_str"
   ]
  },
  {
   "cell_type": "markdown",
   "metadata": {},
   "source": [
    "__Propuesta 2__: Utilizando un diccionario para guardar los símbolos y un bloque try/except"
   ]
  },
  {
   "cell_type": "code",
   "execution_count": 13,
   "metadata": {},
   "outputs": [],
   "source": [
    "def sueldo_neto_mensual_moneda(sueldo_bruto_anual,moneda):\n",
    "\n",
    "\n",
    "    # eur, Eur, eUr, euR\n",
    "    moneda = moneda.upper()\n",
    "\n",
    "    diccionario_simbolos = {'EUR':'€',\n",
    "                            'USD':'$',\n",
    "                            'GBP':'L'}\n",
    "\n",
    "    sueldo_bruto_mensual = sueldo_bruto_anual / 12\n",
    "    desempleo = sueldo_bruto_mensual * 0.0155\n",
    "    contingecias = sueldo_bruto_mensual * 0.047\n",
    "    fp = sueldo_bruto_mensual * 0.001\n",
    "\n",
    "    irpf_anual = IRPF_calc(sueldo_bruto_anual )\n",
    "    irpf = irpf_anual / 12\n",
    "\n",
    "    sueldo_neto = sueldo_bruto_mensual - (desempleo+contingecias+fp+irpf)\n",
    "\n",
    "    sueldo_neto_moneda = sueldo_neto * tipo_cambio(moneda)\n",
    "\n",
    "    try:\n",
    "        sueldo_neto_moneda_str = str(sueldo_neto_moneda) + diccionario_simbolos[moneda]\n",
    "    except:\n",
    "        sueldo_neto_moneda_str = str(sueldo_neto_moneda) + \" sin moneda\"\n",
    "\n",
    "\n",
    "    return sueldo_neto_moneda_str"
   ]
  },
  {
   "cell_type": "markdown",
   "metadata": {},
   "source": [
    "__Propuesta 3__: Utilizando asserts para verificar que se cumplen unas condiciones iniciales ANTES de ejecutar el resto del código; y un diccionario para los símbolos.\n",
    "\n",
    "Recordad: Los asserts son como bloques if/else en el que si no se cumple la condición, saltará una excepción con el mensaje de error que digais.\n",
    "\n",
    "Esquema: assert condicion, \"Mensaje a devolver\""
   ]
  },
  {
   "cell_type": "code",
   "execution_count": 19,
   "metadata": {},
   "outputs": [],
   "source": [
    "def sueldo_neto_mensual_moneda(sueldo_bruto_anual,moneda):\n",
    "\n",
    "\n",
    "    # eur, Eur, eUr, euR\n",
    "    moneda = moneda.upper()\n",
    "\n",
    "    assert moneda in ['EUR','USD','GBP'], 'Introduce un valor entre EUR, USD o GBP'\n",
    "    assert sueldo_bruto_anual > 0, 'Sueldo positivo porfi'\n",
    "    \n",
    "\n",
    "    diccionario_simbolos = {'EUR':'€',\n",
    "                            'USD':'$',\n",
    "                            'GBP':'L'}\n",
    "\n",
    "    sueldo_bruto_mensual = sueldo_bruto_anual / 12\n",
    "    desempleo = sueldo_bruto_mensual * 0.0155\n",
    "    contingecias = sueldo_bruto_mensual * 0.047\n",
    "    fp = sueldo_bruto_mensual * 0.001\n",
    "\n",
    "    irpf_anual = IRPF_calc(sueldo_bruto_anual )\n",
    "    irpf = irpf_anual / 12\n",
    "\n",
    "    sueldo_neto = sueldo_bruto_mensual - (desempleo+contingecias+fp+irpf)\n",
    "\n",
    "    sueldo_neto_moneda = sueldo_neto * tipo_cambio(moneda)\n",
    "\n",
    "\n",
    "    sueldo_neto_moneda_str = str(sueldo_neto_moneda) + diccionario_simbolos[moneda]\n",
    "\n",
    "\n",
    "    return sueldo_neto_moneda_str"
   ]
  },
  {
   "cell_type": "code",
   "execution_count": 20,
   "metadata": {},
   "outputs": [
    {
     "ename": "AssertionError",
     "evalue": "Introduce un valor entre EUR, USD o GBP",
     "output_type": "error",
     "traceback": [
      "\u001b[0;31m---------------------------------------------------------------------------\u001b[0m",
      "\u001b[0;31mAssertionError\u001b[0m                            Traceback (most recent call last)",
      "Cell \u001b[0;32mIn [20], line 1\u001b[0m\n\u001b[0;32m----> 1\u001b[0m sueldo_neto_mensual_moneda(\u001b[39m24000\u001b[39;49m,\u001b[39m'\u001b[39;49m\u001b[39mKLS\u001b[39;49m\u001b[39m'\u001b[39;49m)\n",
      "Cell \u001b[0;32mIn [19], line 7\u001b[0m, in \u001b[0;36msueldo_neto_mensual_moneda\u001b[0;34m(sueldo_bruto_anual, moneda)\u001b[0m\n\u001b[1;32m      1\u001b[0m \u001b[39mdef\u001b[39;00m \u001b[39msueldo_neto_mensual_moneda\u001b[39m(sueldo_bruto_anual,moneda):\n\u001b[1;32m      2\u001b[0m \n\u001b[1;32m      3\u001b[0m \n\u001b[1;32m      4\u001b[0m     \u001b[39m# eur, Eur, eUr, euR\u001b[39;00m\n\u001b[1;32m      5\u001b[0m     moneda \u001b[39m=\u001b[39m moneda\u001b[39m.\u001b[39mupper()\n\u001b[0;32m----> 7\u001b[0m     \u001b[39massert\u001b[39;00m moneda \u001b[39min\u001b[39;00m [\u001b[39m'\u001b[39m\u001b[39mEUR\u001b[39m\u001b[39m'\u001b[39m,\u001b[39m'\u001b[39m\u001b[39mUSD\u001b[39m\u001b[39m'\u001b[39m,\u001b[39m'\u001b[39m\u001b[39mGBP\u001b[39m\u001b[39m'\u001b[39m], \u001b[39m'\u001b[39m\u001b[39mIntroduce un valor entre EUR, USD o GBP\u001b[39m\u001b[39m'\u001b[39m\n\u001b[1;32m      8\u001b[0m     \u001b[39massert\u001b[39;00m sueldo_bruto_anual \u001b[39m>\u001b[39m \u001b[39m0\u001b[39m, \u001b[39m'\u001b[39m\u001b[39mSueldo positivo porfi\u001b[39m\u001b[39m'\u001b[39m\n\u001b[1;32m     11\u001b[0m     diccionario_simbolos \u001b[39m=\u001b[39m {\u001b[39m'\u001b[39m\u001b[39mEUR\u001b[39m\u001b[39m'\u001b[39m:\u001b[39m'\u001b[39m\u001b[39m€\u001b[39m\u001b[39m'\u001b[39m,\n\u001b[1;32m     12\u001b[0m                             \u001b[39m'\u001b[39m\u001b[39mUSD\u001b[39m\u001b[39m'\u001b[39m:\u001b[39m'\u001b[39m\u001b[39m$\u001b[39m\u001b[39m'\u001b[39m,\n\u001b[1;32m     13\u001b[0m                             \u001b[39m'\u001b[39m\u001b[39mGBP\u001b[39m\u001b[39m'\u001b[39m:\u001b[39m'\u001b[39m\u001b[39mL\u001b[39m\u001b[39m'\u001b[39m}\n",
      "\u001b[0;31mAssertionError\u001b[0m: Introduce un valor entre EUR, USD o GBP"
     ]
    }
   ],
   "source": [
    "sueldo_neto_mensual_moneda(24000,'KLS')"
   ]
  },
  {
   "cell_type": "code",
   "execution_count": 21,
   "metadata": {},
   "outputs": [
    {
     "data": {
      "text/plain": [
       "'1410.151876375$'"
      ]
     },
     "execution_count": 21,
     "metadata": {},
     "output_type": "execute_result"
    }
   ],
   "source": [
    "sueldo_neto_mensual_moneda(24000,'USD')"
   ]
  },
  {
   "cell_type": "code",
   "execution_count": 22,
   "metadata": {},
   "outputs": [
    {
     "data": {
      "text/plain": [
       "'1228.3970160000001L'"
      ]
     },
     "execution_count": 22,
     "metadata": {},
     "output_type": "execute_result"
    }
   ],
   "source": [
    "sueldo_neto_mensual_moneda(24000,'GBP')"
   ]
  }
 ],
 "metadata": {
  "kernelspec": {
   "display_name": "Python 3.8.10 64-bit",
   "language": "python",
   "name": "python3"
  },
  "language_info": {
   "codemirror_mode": {
    "name": "ipython",
    "version": 3
   },
   "file_extension": ".py",
   "mimetype": "text/x-python",
   "name": "python",
   "nbconvert_exporter": "python",
   "pygments_lexer": "ipython3",
   "version": "3.8.10"
  },
  "orig_nbformat": 4,
  "vscode": {
   "interpreter": {
    "hash": "916dbcbb3f70747c44a77c7bcd40155683ae19c65e1c03b4aa3499c5328201f1"
   }
  }
 },
 "nbformat": 4,
 "nbformat_minor": 2
}
